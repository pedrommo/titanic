{
 "cells": [
  {
   "cell_type": "code",
   "execution_count": 104,
   "metadata": {},
   "outputs": [],
   "source": [
    "# https://towardsdatascience.com/predicting-the-survival-of-titanic-passengers-30870ccc7e8\n",
    "# https://seaborn.pydata.org/examples/index.html\n",
    "\n",
    "# I am going to start by importing libraries\n",
    "\n",
    "# linear algebra\n",
    "import numpy as np\n",
    "\n",
    "# data processing\n",
    "import pandas as pd\n",
    "\n",
    "# data visualization\n",
    "import seaborn as sns\n",
    "%matplotlib inline\n",
    "from matplotlib import pyplot as plt\n",
    "from matplotlib import style\n",
    "\n",
    "# Algorithms to test\n",
    "from sklearn import linear_model\n",
    "from sklearn.linear_model import LogisticRegression\n",
    "from sklearn.ensemble import RandomForestClassifier\n",
    "from sklearn.linear_model import Perceptron\n",
    "from sklearn.linear_model import SGDClassifier\n",
    "from sklearn.tree import DecisionTreeClassifier\n",
    "from sklearn.neighbors import KNeighborsClassifier\n",
    "from sklearn.svm import SVC, LinearSVC\n",
    "from sklearn.naive_bayes import GaussianNB"
   ]
  },
  {
   "cell_type": "code",
   "execution_count": 105,
   "metadata": {},
   "outputs": [],
   "source": [
    "# Now, lets get the data from Titanic challenge\n",
    "\n",
    "\n",
    "test_ttn = pd.read_csv(r'C:\\Users\\pedro\\Documents\\Data Science\\datasets\\titanic\\titanic_test.csv')\n",
    "train_ttn = pd.read_csv(r'C:\\Users\\pedro\\Documents\\Data Science\\datasets\\titanic\\titanic_train.csv')"
   ]
  },
  {
   "cell_type": "code",
   "execution_count": 106,
   "metadata": {},
   "outputs": [
    {
     "name": "stdout",
     "output_type": "stream",
     "text": [
      "<class 'pandas.core.frame.DataFrame'>\n",
      "RangeIndex: 891 entries, 0 to 890\n",
      "Data columns (total 12 columns):\n",
      " #   Column       Non-Null Count  Dtype  \n",
      "---  ------       --------------  -----  \n",
      " 0   PassengerId  891 non-null    int64  \n",
      " 1   Survived     891 non-null    int64  \n",
      " 2   Pclass       891 non-null    int64  \n",
      " 3   Name         891 non-null    object \n",
      " 4   Sex          891 non-null    object \n",
      " 5   Age          714 non-null    float64\n",
      " 6   SibSp        891 non-null    int64  \n",
      " 7   Parch        891 non-null    int64  \n",
      " 8   Ticket       891 non-null    object \n",
      " 9   Fare         891 non-null    float64\n",
      " 10  Cabin        204 non-null    object \n",
      " 11  Embarked     889 non-null    object \n",
      "dtypes: float64(2), int64(5), object(5)\n",
      "memory usage: 83.7+ KB\n"
     ]
    },
    {
     "data": {
      "text/plain": [
       "(891, 12)"
      ]
     },
     "execution_count": 106,
     "metadata": {},
     "output_type": "execute_result"
    }
   ],
   "source": [
    "train_ttn.info()\n",
    "train_ttn.shape\n",
    "\n",
    "# the target variable is Survived. It is possible to see we have integer, objects and floats.\n",
    "# according to the instructions, sibsp represents the # of siblings / spouses aboard the Titanic\n",
    "# according to the instructions, parch represents the # of parents / children aboard the Titanic"
   ]
  },
  {
   "cell_type": "code",
   "execution_count": 107,
   "metadata": {
    "scrolled": false
   },
   "outputs": [
    {
     "data": {
      "text/html": [
       "<div>\n",
       "<style scoped>\n",
       "    .dataframe tbody tr th:only-of-type {\n",
       "        vertical-align: middle;\n",
       "    }\n",
       "\n",
       "    .dataframe tbody tr th {\n",
       "        vertical-align: top;\n",
       "    }\n",
       "\n",
       "    .dataframe thead th {\n",
       "        text-align: right;\n",
       "    }\n",
       "</style>\n",
       "<table border=\"1\" class=\"dataframe\">\n",
       "  <thead>\n",
       "    <tr style=\"text-align: right;\">\n",
       "      <th></th>\n",
       "      <th>PassengerId</th>\n",
       "      <th>Survived</th>\n",
       "      <th>Pclass</th>\n",
       "      <th>Name</th>\n",
       "      <th>Sex</th>\n",
       "      <th>Age</th>\n",
       "      <th>SibSp</th>\n",
       "      <th>Parch</th>\n",
       "      <th>Ticket</th>\n",
       "      <th>Fare</th>\n",
       "      <th>Cabin</th>\n",
       "      <th>Embarked</th>\n",
       "    </tr>\n",
       "  </thead>\n",
       "  <tbody>\n",
       "    <tr>\n",
       "      <th>0</th>\n",
       "      <td>1</td>\n",
       "      <td>0</td>\n",
       "      <td>3</td>\n",
       "      <td>Braund, Mr. Owen Harris</td>\n",
       "      <td>male</td>\n",
       "      <td>22.0</td>\n",
       "      <td>1</td>\n",
       "      <td>0</td>\n",
       "      <td>A/5 21171</td>\n",
       "      <td>7.2500</td>\n",
       "      <td>NaN</td>\n",
       "      <td>S</td>\n",
       "    </tr>\n",
       "    <tr>\n",
       "      <th>1</th>\n",
       "      <td>2</td>\n",
       "      <td>1</td>\n",
       "      <td>1</td>\n",
       "      <td>Cumings, Mrs. John Bradley (Florence Briggs Th...</td>\n",
       "      <td>female</td>\n",
       "      <td>38.0</td>\n",
       "      <td>1</td>\n",
       "      <td>0</td>\n",
       "      <td>PC 17599</td>\n",
       "      <td>71.2833</td>\n",
       "      <td>C85</td>\n",
       "      <td>C</td>\n",
       "    </tr>\n",
       "    <tr>\n",
       "      <th>2</th>\n",
       "      <td>3</td>\n",
       "      <td>1</td>\n",
       "      <td>3</td>\n",
       "      <td>Heikkinen, Miss. Laina</td>\n",
       "      <td>female</td>\n",
       "      <td>26.0</td>\n",
       "      <td>0</td>\n",
       "      <td>0</td>\n",
       "      <td>STON/O2. 3101282</td>\n",
       "      <td>7.9250</td>\n",
       "      <td>NaN</td>\n",
       "      <td>S</td>\n",
       "    </tr>\n",
       "    <tr>\n",
       "      <th>3</th>\n",
       "      <td>4</td>\n",
       "      <td>1</td>\n",
       "      <td>1</td>\n",
       "      <td>Futrelle, Mrs. Jacques Heath (Lily May Peel)</td>\n",
       "      <td>female</td>\n",
       "      <td>35.0</td>\n",
       "      <td>1</td>\n",
       "      <td>0</td>\n",
       "      <td>113803</td>\n",
       "      <td>53.1000</td>\n",
       "      <td>C123</td>\n",
       "      <td>S</td>\n",
       "    </tr>\n",
       "    <tr>\n",
       "      <th>4</th>\n",
       "      <td>5</td>\n",
       "      <td>0</td>\n",
       "      <td>3</td>\n",
       "      <td>Allen, Mr. William Henry</td>\n",
       "      <td>male</td>\n",
       "      <td>35.0</td>\n",
       "      <td>0</td>\n",
       "      <td>0</td>\n",
       "      <td>373450</td>\n",
       "      <td>8.0500</td>\n",
       "      <td>NaN</td>\n",
       "      <td>S</td>\n",
       "    </tr>\n",
       "  </tbody>\n",
       "</table>\n",
       "</div>"
      ],
      "text/plain": [
       "   PassengerId  Survived  Pclass  \\\n",
       "0            1         0       3   \n",
       "1            2         1       1   \n",
       "2            3         1       3   \n",
       "3            4         1       1   \n",
       "4            5         0       3   \n",
       "\n",
       "                                                Name     Sex   Age  SibSp  \\\n",
       "0                            Braund, Mr. Owen Harris    male  22.0      1   \n",
       "1  Cumings, Mrs. John Bradley (Florence Briggs Th...  female  38.0      1   \n",
       "2                             Heikkinen, Miss. Laina  female  26.0      0   \n",
       "3       Futrelle, Mrs. Jacques Heath (Lily May Peel)  female  35.0      1   \n",
       "4                           Allen, Mr. William Henry    male  35.0      0   \n",
       "\n",
       "   Parch            Ticket     Fare Cabin Embarked  \n",
       "0      0         A/5 21171   7.2500   NaN        S  \n",
       "1      0          PC 17599  71.2833   C85        C  \n",
       "2      0  STON/O2. 3101282   7.9250   NaN        S  \n",
       "3      0            113803  53.1000  C123        S  \n",
       "4      0            373450   8.0500   NaN        S  "
      ]
     },
     "execution_count": 107,
     "metadata": {},
     "output_type": "execute_result"
    }
   ],
   "source": [
    "train_ttn.head()\n",
    "\n",
    "# There is NaN  values in Cabin column. Tickets may cause a problem because they have different format but I am assuming it does not have much impact on deciding whether a passenger will survive or not. Some are just numbers, others include letters, characters and numbers"
   ]
  },
  {
   "cell_type": "code",
   "execution_count": 108,
   "metadata": {},
   "outputs": [
    {
     "data": {
      "text/plain": [
       "Cabin          687\n",
       "Age            177\n",
       "Embarked         2\n",
       "Fare             0\n",
       "Ticket           0\n",
       "Parch            0\n",
       "SibSp            0\n",
       "Sex              0\n",
       "Name             0\n",
       "Pclass           0\n",
       "Survived         0\n",
       "PassengerId      0\n",
       "dtype: int64"
      ]
     },
     "execution_count": 108,
     "metadata": {},
     "output_type": "execute_result"
    }
   ],
   "source": [
    "# Now, I am going to check what is missing\n",
    "\n",
    "total = train_ttn.isnull().sum().sort_values(ascending=False)\n",
    "total.head(len(train_ttn.columns))\n",
    "\n",
    "# So, there are 687 values missing in Cabin, 177 in age and 2 in Embarket\n",
    "# All the variables should be considered to get the y (Survived) except for Ticket, Name and PassengerId"
   ]
  },
  {
   "cell_type": "code",
   "execution_count": 109,
   "metadata": {},
   "outputs": [
    {
     "data": {
      "text/html": [
       "<div>\n",
       "<style scoped>\n",
       "    .dataframe tbody tr th:only-of-type {\n",
       "        vertical-align: middle;\n",
       "    }\n",
       "\n",
       "    .dataframe tbody tr th {\n",
       "        vertical-align: top;\n",
       "    }\n",
       "\n",
       "    .dataframe thead th {\n",
       "        text-align: right;\n",
       "    }\n",
       "</style>\n",
       "<table border=\"1\" class=\"dataframe\">\n",
       "  <thead>\n",
       "    <tr style=\"text-align: right;\">\n",
       "      <th></th>\n",
       "      <th>PassengerId</th>\n",
       "      <th>Survived</th>\n",
       "      <th>Pclass</th>\n",
       "      <th>Age</th>\n",
       "      <th>SibSp</th>\n",
       "      <th>Parch</th>\n",
       "      <th>Fare</th>\n",
       "    </tr>\n",
       "  </thead>\n",
       "  <tbody>\n",
       "    <tr>\n",
       "      <th>count</th>\n",
       "      <td>891.000000</td>\n",
       "      <td>891.000000</td>\n",
       "      <td>891.000000</td>\n",
       "      <td>714.000000</td>\n",
       "      <td>891.000000</td>\n",
       "      <td>891.000000</td>\n",
       "      <td>891.000000</td>\n",
       "    </tr>\n",
       "    <tr>\n",
       "      <th>mean</th>\n",
       "      <td>446.000000</td>\n",
       "      <td>0.383838</td>\n",
       "      <td>2.308642</td>\n",
       "      <td>29.699118</td>\n",
       "      <td>0.523008</td>\n",
       "      <td>0.381594</td>\n",
       "      <td>32.204208</td>\n",
       "    </tr>\n",
       "    <tr>\n",
       "      <th>std</th>\n",
       "      <td>257.353842</td>\n",
       "      <td>0.486592</td>\n",
       "      <td>0.836071</td>\n",
       "      <td>14.526497</td>\n",
       "      <td>1.102743</td>\n",
       "      <td>0.806057</td>\n",
       "      <td>49.693429</td>\n",
       "    </tr>\n",
       "    <tr>\n",
       "      <th>min</th>\n",
       "      <td>1.000000</td>\n",
       "      <td>0.000000</td>\n",
       "      <td>1.000000</td>\n",
       "      <td>0.420000</td>\n",
       "      <td>0.000000</td>\n",
       "      <td>0.000000</td>\n",
       "      <td>0.000000</td>\n",
       "    </tr>\n",
       "    <tr>\n",
       "      <th>25%</th>\n",
       "      <td>223.500000</td>\n",
       "      <td>0.000000</td>\n",
       "      <td>2.000000</td>\n",
       "      <td>20.125000</td>\n",
       "      <td>0.000000</td>\n",
       "      <td>0.000000</td>\n",
       "      <td>7.910400</td>\n",
       "    </tr>\n",
       "    <tr>\n",
       "      <th>50%</th>\n",
       "      <td>446.000000</td>\n",
       "      <td>0.000000</td>\n",
       "      <td>3.000000</td>\n",
       "      <td>28.000000</td>\n",
       "      <td>0.000000</td>\n",
       "      <td>0.000000</td>\n",
       "      <td>14.454200</td>\n",
       "    </tr>\n",
       "    <tr>\n",
       "      <th>75%</th>\n",
       "      <td>668.500000</td>\n",
       "      <td>1.000000</td>\n",
       "      <td>3.000000</td>\n",
       "      <td>38.000000</td>\n",
       "      <td>1.000000</td>\n",
       "      <td>0.000000</td>\n",
       "      <td>31.000000</td>\n",
       "    </tr>\n",
       "    <tr>\n",
       "      <th>max</th>\n",
       "      <td>891.000000</td>\n",
       "      <td>1.000000</td>\n",
       "      <td>3.000000</td>\n",
       "      <td>80.000000</td>\n",
       "      <td>8.000000</td>\n",
       "      <td>6.000000</td>\n",
       "      <td>512.329200</td>\n",
       "    </tr>\n",
       "  </tbody>\n",
       "</table>\n",
       "</div>"
      ],
      "text/plain": [
       "       PassengerId    Survived      Pclass         Age       SibSp  \\\n",
       "count   891.000000  891.000000  891.000000  714.000000  891.000000   \n",
       "mean    446.000000    0.383838    2.308642   29.699118    0.523008   \n",
       "std     257.353842    0.486592    0.836071   14.526497    1.102743   \n",
       "min       1.000000    0.000000    1.000000    0.420000    0.000000   \n",
       "25%     223.500000    0.000000    2.000000   20.125000    0.000000   \n",
       "50%     446.000000    0.000000    3.000000   28.000000    0.000000   \n",
       "75%     668.500000    1.000000    3.000000   38.000000    1.000000   \n",
       "max     891.000000    1.000000    3.000000   80.000000    8.000000   \n",
       "\n",
       "            Parch        Fare  \n",
       "count  891.000000  891.000000  \n",
       "mean     0.381594   32.204208  \n",
       "std      0.806057   49.693429  \n",
       "min      0.000000    0.000000  \n",
       "25%      0.000000    7.910400  \n",
       "50%      0.000000   14.454200  \n",
       "75%      0.000000   31.000000  \n",
       "max      6.000000  512.329200  "
      ]
     },
     "execution_count": 109,
     "metadata": {},
     "output_type": "execute_result"
    }
   ],
   "source": [
    "train_ttn.describe()\n",
    "\n",
    "# As we can see here, there were 891 passengers; since Survived is a dummy variable, around 38% of the passengers included in the training-set survived; most passengers were more or less between 2nd and 3rd classes; average age is around 30 years, but there was at least a baby on board since the min age is 0.42"
   ]
  },
  {
   "cell_type": "code",
   "execution_count": 110,
   "metadata": {},
   "outputs": [
    {
     "data": {
      "image/png": "[encoded data removed]",
      "text/plain": [
       "<Figure size 432x288 with 2 Axes>"
      ]
     },
     "metadata": {
      "needs_background": "light"
     },
     "output_type": "display_data"
    },
    {
     "data": {
      "text/plain": [
       "<Figure size 864x864 with 0 Axes>"
      ]
     },
     "metadata": {},
     "output_type": "display_data"
    }
   ],
   "source": [
    "# Now lets check if there is any correlation between any pair of variables (which I do not believe) but I am just going to confirm because if there is high correlation between variables they are telling the same thing and I do not want several variables telling the same thing.\n",
    "\n",
    "train_ttn.corr()\n",
    "sns.heatmap(train_ttn.corr(),annot=True, linewidth=1, cmap = sns.diverging_palette(220,20,as_cmap=True))\n",
    "plt.figure(figsize=(12,12))\n",
    "plt.show()\n",
    "\n",
    "# Except for the diagonal, everything looks ok, so there is no need to drop any variable."
   ]
  },
  {
   "cell_type": "code",
   "execution_count": 111,
   "metadata": {},
   "outputs": [
    {
     "data": {
      "image/png": "[encoded data removed]",
      "text/plain": [
       "<Figure size 720x288 with 2 Axes>"
      ]
     },
     "metadata": {
      "needs_background": "light"
     },
     "output_type": "display_data"
    }
   ],
   "source": [
    "survived = 'survived'\n",
    "not_survived = 'not survived'\n",
    "fig, axes = plt.subplots(nrows=1, ncols=2,figsize=(10, 4))\n",
    "women = train_ttn[train_ttn['Sex']=='female']\n",
    "men = train_ttn[train_ttn['Sex']=='male']\n",
    "ax = sns.histplot(women[women['Survived']==1].Age.dropna(), bins=30, color = 'green', label = survived, ax = axes[0], kde =False)\n",
    "ax = sns.histplot(women[women['Survived']==0].Age.dropna(), bins=30, color = 'red', label = not_survived, ax = axes[0], kde =False)\n",
    "ax.legend()\n",
    "ax.set_title('Female')\n",
    "ax = sns.histplot(men[men['Survived']==1].Age.dropna(), bins=30, color = 'green', label = survived, ax = axes[1], kde = False)\n",
    "ax = sns.histplot(men[men['Survived']==0].Age.dropna(), bins=30, color = 'red', label = not_survived, ax = axes[1], kde = False)\n",
    "ax.legend()\n",
    "_ = ax.set_title('Male')\n",
    "\n",
    "\n",
    "# The initial displot I was trying to create delivered an error, should try it again later, it said distplot did not exist...\n",
    "# As we can see according to the graphs, more females survived comparing to males but the biggest difference is when we look to the ones who died because much more males died comparing to females. It is also noticeable that children have higher survival chances comparing to males. This might be due to chivalry."
   ]
  },
  {
   "cell_type": "code",
   "execution_count": 112,
   "metadata": {},
   "outputs": [],
   "source": [
    "female_survived = len(women[women['Survived']==1])\n",
    "female_not_survived = len(women[women['Survived']==0])\n",
    "male_survived = len(men[men['Survived']==1])\n",
    "male_not_survived = len(men[men['Survived']==0])\n",
    "\n",
    "# Now I am going to create age groups to better categorise the data\n",
    "age_groups = pd.cut(train_ttn['Age'], bins=8)"
   ]
  },
  {
   "cell_type": "code",
   "execution_count": 113,
   "metadata": {},
   "outputs": [
    {
     "data": {
      "image/png": "[encoded data removed]",
      "text/plain": [
       "<Figure size 1150.5x360 with 3 Axes>"
      ]
     },
     "metadata": {
      "needs_background": "light"
     },
     "output_type": "display_data"
    }
   ],
   "source": [
    "survived_embarked = sns.catplot(data= train_ttn, kind = 'bar', x = \"Pclass\", y = 'Survived', hue = 'Sex', col='Embarked')\n",
    "plt.show()\n",
    "\n",
    "# Embarked is the port of Embarkation and there are three: C = Cherbourg, Q = Queenstown, S = Southampton. It seems like males have lower chances of surviving when they embarke in port Q and females is more or less the same for the first and second classes."
   ]
  },
  {
   "cell_type": "code",
   "execution_count": 114,
   "metadata": {},
   "outputs": [
    {
     "data": {
      "text/plain": [
       "<matplotlib.axes._subplots.AxesSubplot at 0x291f13497f0>"
      ]
     },
     "execution_count": 114,
     "metadata": {},
     "output_type": "execute_result"
    },
    {
     "data": {
      "image/png": "[encoded data removed]",
      "text/plain": [
       "<Figure size 432x288 with 1 Axes>"
      ]
     },
     "metadata": {
      "needs_background": "light"
     },
     "output_type": "display_data"
    }
   ],
   "source": [
    "# I am going to check if there is any relationship between survivorship and Passenger class which can be seen as a relationship between survival and socioeconomic status.\n",
    "\n",
    "sns.barplot(data = train_ttn, x = 'Pclass', y = 'Survived')\n",
    "\n",
    "# It seems like passengers from more premium classes have higher chances of survival, maybe because of the location of their rooms."
   ]
  },
  {
   "cell_type": "code",
   "execution_count": 115,
   "metadata": {},
   "outputs": [
    {
     "data": {
      "text/plain": [
       "<seaborn.axisgrid.FacetGrid at 0x291ef5654c0>"
      ]
     },
     "execution_count": 115,
     "metadata": {},
     "output_type": "execute_result"
    },
    {
     "data": {
      "image/png": "[encoded data removed]",
      "text/plain": [
       "<Figure size 440x648 with 6 Axes>"
      ]
     },
     "metadata": {
      "needs_background": "light"
     },
     "output_type": "display_data"
    }
   ],
   "source": [
    "class_survived_age = sns.FacetGrid(data = train_ttn, col = 'Survived', row = 'Pclass')\n",
    "class_survived_age.map_dataframe(sns.histplot, x = 'Age')\n",
    "class_survived_age.set_axis_labels('Age')\n",
    "class_survived_age.add_legend()\n",
    "\n",
    "# It is possible to see that the class has a real effect on the survival rate and in some cases it is possible to clearly see that it has different effects for different age groups (ex: individuals aged between 20-35 from class 3)"
   ]
  },
  {
   "cell_type": "code",
   "execution_count": 116,
   "metadata": {},
   "outputs": [
    {
     "data": {
      "text/plain": [
       "<seaborn.axisgrid.FacetGrid at 0x291ef510250>"
      ]
     },
     "execution_count": 116,
     "metadata": {},
     "output_type": "execute_result"
    },
    {
     "data": {
      "image/png": "[encoded data removed]",
      "text/plain": [
       "<Figure size 648x360 with 3 Axes>"
      ]
     },
     "metadata": {
      "needs_background": "light"
     },
     "output_type": "display_data"
    }
   ],
   "source": [
    "# Just out of curiosity lets create a variable called \"Who\" to see the difference in survival rates among Men, Women and Children.\n",
    "\n",
    "who_conditions = [(train_ttn['Sex'] == 'male') & (train_ttn['Age'] >= 18), (train_ttn['Sex'] == 'female') & (train_ttn['Age'] >= 18), (train_ttn['Age'] < 18), (train_ttn['Age'].isnull())]\n",
    "who_values = ['Men', 'Women', 'Children', 'Undefined']\n",
    "train_ttn['Who'] = np.select(who_conditions, who_values)\n",
    "\n",
    "# Search for how to address NA values in the age column\n",
    "# Here: https://www.dataquest.io/blog/tutorial-add-column-pandas-dataframe-based-on-if-else-condition/\n",
    "\n",
    "class_survived_age_2 = sns.catplot(data = train_ttn, x = 'Who', y = 'Survived', col = 'Pclass', kind = 'bar', aspect = 0.6, ci= None)\n",
    "class_survived_age_2.set_axis_labels(\"\", \"Survival Rate\")\n",
    "\n",
    "# Men have much lower chance of survival when in class 2 and 3. For women and children it is similar to be in class 1 or 2.\n",
    "\n",
    "\n",
    "# See this: https://seaborn.pydata.org/generated/seaborn.catplot.html"
   ]
  },
  {
   "cell_type": "code",
   "execution_count": 117,
   "metadata": {},
   "outputs": [],
   "source": [
    "# sibsp represents the number of siblings / spouses aboard the Titanic\n",
    "# parch represents the number of parents / children aboard the Titanic\n",
    "\n",
    "# So, my thiking here was based on the genealogy. sibsp represents what I consider \"horizontal relationships\" because these relatives are similar to the passenger in terms of line and/or age. Parch is what I consider \"verical relationships\" because there is a degree of kinship between the passenger and the relative because the passenger either is a parent or a son of of its relative.\n",
    "# I will now create a variable that sums up both vertical and horizontal relationships called number_relatives\n",
    "\n",
    "for dataset in train_ttn:\n",
    "    train_ttn ['number_relatives'] = train_ttn['SibSp'] + train_ttn['Parch']\n",
    "    train_ttn.loc [train_ttn['number_relatives'] > 0, 'alone'] = 0\n",
    "    train_ttn.loc [train_ttn['number_relatives'] == 0, 'alone'] = 1\n",
    "    train_ttn ['alone'] = train_ttn['alone'].astype(int)\n",
    "    \n",
    "train_ttn ['alone'].value_counts()\n",
    "\n",
    "for dataset in test_ttn:\n",
    "    test_ttn ['number_relatives'] = test_ttn['SibSp'] + test_ttn['Parch']\n",
    "    test_ttn.loc [test_ttn['number_relatives'] > 0, 'alone'] = 0\n",
    "    test_ttn.loc [test_ttn['number_relatives'] == 0, 'alone'] = 1\n",
    "    test_ttn ['alone'] = test_ttn['alone'].astype(int)"
   ]
  },
  {
   "cell_type": "code",
   "execution_count": 118,
   "metadata": {},
   "outputs": [
    {
     "data": {
      "text/plain": [
       "[(-0.5, 8.0)]"
      ]
     },
     "execution_count": 118,
     "metadata": {},
     "output_type": "execute_result"
    },
    {
     "data": {
      "image/png": "[encoded data removed]",
      "text/plain": [
       "<Figure size 432x288 with 1 Axes>"
      ]
     },
     "metadata": {
      "needs_background": "light"
     },
     "output_type": "display_data"
    }
   ],
   "source": [
    "relatives_plot = sns.barplot(data = train_ttn, x = 'number_relatives', y = 'Survived')\n",
    "relatives_plot.set(xlim=(-0.5,8))\n",
    "\n",
    "# The number of relatives has a clear influence on the survival rate of passengers. Passengers who have 4 or 5 relatives on board have much less chances to survive."
   ]
  },
  {
   "cell_type": "code",
   "execution_count": 119,
   "metadata": {},
   "outputs": [
    {
     "data": {
      "text/plain": [
       "[(-0.5, 8.0)]"
      ]
     },
     "execution_count": 119,
     "metadata": {},
     "output_type": "execute_result"
    },
    {
     "data": {
      "image/png": "[encoded data removed]",
      "text/plain": [
       "<Figure size 432x288 with 1 Axes>"
      ]
     },
     "metadata": {
      "needs_background": "light"
     },
     "output_type": "display_data"
    }
   ],
   "source": [
    "sibsp_plot = sns.barplot(data = train_ttn, x = 'SibSp', y = 'Survived')\n",
    "sibsp_plot.set(xlim=(-0.5,8))"
   ]
  },
  {
   "cell_type": "code",
   "execution_count": 120,
   "metadata": {},
   "outputs": [
    {
     "data": {
      "text/plain": [
       "[(-0.5, 8.0)]"
      ]
     },
     "execution_count": 120,
     "metadata": {},
     "output_type": "execute_result"
    },
    {
     "data": {
      "image/png": "[encoded data removed]",
      "text/plain": [
       "<Figure size 432x288 with 1 Axes>"
      ]
     },
     "metadata": {
      "needs_background": "light"
     },
     "output_type": "display_data"
    }
   ],
   "source": [
    "parch_plot = sns.barplot(data = train_ttn, x = 'Parch', y = 'Survived')\n",
    "parch_plot.set(xlim=(-0.5,8))\n",
    "\n",
    "# As we can see, horizontal and vertical relationships have different influences over the chance of survival."
   ]
  },
  {
   "cell_type": "code",
   "execution_count": 121,
   "metadata": {},
   "outputs": [],
   "source": [
    "# Now, I will start the data preprocessing by addressing missing values, then value formats, then group variables into categories before start testing the models."
   ]
  },
  {
   "cell_type": "code",
   "execution_count": 122,
   "metadata": {},
   "outputs": [
    {
     "data": {
      "text/plain": [
       "Cabin          687\n",
       "Age            177\n",
       "Embarked         2\n",
       "Fare             0\n",
       "Ticket           0\n",
       "Parch            0\n",
       "SibSp            0\n",
       "Sex              0\n",
       "Name             0\n",
       "Pclass           0\n",
       "Survived         0\n",
       "PassengerId      0\n",
       "dtype: int64"
      ]
     },
     "execution_count": 122,
     "metadata": {},
     "output_type": "execute_result"
    }
   ],
   "source": [
    "# Missing data\n",
    "\n",
    "total"
   ]
  },
  {
   "cell_type": "code",
   "execution_count": 123,
   "metadata": {
    "scrolled": true
   },
   "outputs": [
    {
     "name": "stdout",
     "output_type": "stream",
     "text": [
      "survival rate for missing Cabin values:  0.29985443959243085\n",
      "survival rate for missing Age values:  0.2937853107344633\n",
      "general survival rate:  0.3838383838383838\n",
      "percentage of missing Cabin values:  0.7710437710437711\n"
     ]
    }
   ],
   "source": [
    "# There are a lot of missing values in cabin column and age. Have to check if these randomly missing because these variables are important for the model.\n",
    "# To check for randomness of missing values I am going to use the output variable (Survived).\n",
    "\n",
    "print('survival rate for missing Cabin values: ', train_ttn[train_ttn['Cabin'].isnull()].loc[:, 'Survived'].mean())\n",
    "print('survival rate for missing Age values: ', train_ttn[train_ttn['Age'].isnull()].loc[:, 'Survived'].mean())\n",
    "print('general survival rate: ', train_ttn['Survived'].mean())\n",
    "\n",
    "print('percentage of missing Cabin values: ', train_ttn['Cabin'].isnull().sum()/train_ttn['Cabin'].isnull().count())\n",
    "\n",
    "# Survival percentages of Cabin and Age missing values are not very different between themselves and comparing to the general survival rate.\n",
    "# Cabin has almost 77% of values missing, this is a lot. I do not think it will be benefitial to predict such a number of cases considering that I would not merely predicting a few values but a lot of values at random because Titanic certainly had a lot of cabins. I think this would just result in noise."
   ]
  },
  {
   "cell_type": "code",
   "execution_count": 124,
   "metadata": {},
   "outputs": [],
   "source": [
    "data = [train_ttn, test_ttn]\n",
    "\n",
    "# I was not able to use this for the expressions \"for dataset in data\" because it was delivering an error and I could not find solution for it, so I just did the same twice since I am only using two datasets this is not a big problem."
   ]
  },
  {
   "cell_type": "code",
   "execution_count": 125,
   "metadata": {},
   "outputs": [],
   "source": [
    "# Regarding Cabin I will follow a suggestion I found on the internet saying that we can use Cabin to create a variable named Deck. Explanation: A cabin number looks like ‘C123’ and the letter refers to the deck. Therefore we’re going to extract these and create a new feature, that contains a persons deck. Afterwords we will convert the feature into a numeric variable. The missing values will be converted to zero.\n",
    "# Credits to Niklas Donges\n",
    "import re\n",
    "deck = {\"A\": 1, \"B\": 2, \"C\": 3, \"D\": 4, \"E\": 5, \"F\": 6, \"G\": 7, \"U\": 8}\n",
    "\n",
    "for dataset in train_ttn:\n",
    "    train_ttn['Cabin'] = train_ttn['Cabin'].fillna(\"U0\")\n",
    "    train_ttn['Deck'] = train_ttn['Cabin'].map(lambda x: re.compile(\"([a-zA-Z]+)\").search(x).group())\n",
    "    train_ttn['Deck'] = train_ttn['Deck'].map(deck)\n",
    "    train_ttn['Deck'] = train_ttn['Deck'].fillna(0)\n",
    "    train_ttn['Deck'] = train_ttn['Deck'].astype(int)\n",
    "\n",
    "for dataset in test_ttn:\n",
    "    test_ttn['Cabin'] = test_ttn['Cabin'].fillna(\"U0\")\n",
    "    test_ttn['Deck'] = test_ttn['Cabin'].map(lambda x: re.compile(\"([a-zA-Z]+)\").search(x).group())\n",
    "    test_ttn['Deck'] = test_ttn['Deck'].map(deck)\n",
    "    test_ttn['Deck'] = test_ttn['Deck'].fillna(0)\n",
    "    test_ttn['Deck'] = test_ttn['Deck'].astype(int)"
   ]
  },
  {
   "cell_type": "code",
   "execution_count": 126,
   "metadata": {},
   "outputs": [],
   "source": [
    "# Embarked only has 2 missing values, so it is easy to tackle. I will just fill these with the most common embarking port.\n",
    "\n",
    "train_ttn['Embarked'].describe()\n",
    "most_common_port = train_ttn['Embarked'].value_counts().idxmax()\n",
    "\n",
    "# The most common embarking port is S, so both will be filled with this value.\n",
    "for dataset in train_ttn:\n",
    "    train_ttn['Embarked'] = train_ttn['Embarked'].fillna(most_common_port)\n",
    "\n",
    "for dataset in test_ttn:\n",
    "    test_ttn['Embarked'] = test_ttn['Embarked'].fillna(most_common_port)"
   ]
  },
  {
   "cell_type": "code",
   "execution_count": 127,
   "metadata": {},
   "outputs": [
    {
     "name": "stdout",
     "output_type": "stream",
     "text": [
      "<class 'pandas.core.frame.DataFrame'>\n",
      "RangeIndex: 891 entries, 0 to 890\n",
      "Data columns (total 16 columns):\n",
      " #   Column            Non-Null Count  Dtype  \n",
      "---  ------            --------------  -----  \n",
      " 0   PassengerId       891 non-null    int64  \n",
      " 1   Survived          891 non-null    int64  \n",
      " 2   Pclass            891 non-null    int64  \n",
      " 3   Name              891 non-null    object \n",
      " 4   Sex               891 non-null    object \n",
      " 5   Age               714 non-null    float64\n",
      " 6   SibSp             891 non-null    int64  \n",
      " 7   Parch             891 non-null    int64  \n",
      " 8   Ticket            891 non-null    object \n",
      " 9   Fare              891 non-null    float64\n",
      " 10  Cabin             891 non-null    object \n",
      " 11  Embarked          891 non-null    object \n",
      " 12  Who               891 non-null    object \n",
      " 13  number_relatives  891 non-null    int64  \n",
      " 14  alone             891 non-null    int32  \n",
      " 15  Deck              891 non-null    int32  \n",
      "dtypes: float64(2), int32(2), int64(6), object(6)\n",
      "memory usage: 104.5+ KB\n"
     ]
    }
   ],
   "source": [
    "# Now, for modelling purposes I need to transform some variables, namely: Age_filled, Fare, Sex, Embarked and Ticket\n",
    "\n",
    "train_ttn.info()"
   ]
  },
  {
   "cell_type": "code",
   "execution_count": 128,
   "metadata": {},
   "outputs": [],
   "source": [
    "# I would not use Name for nothing but then I found something on the internet that I will use. This is kind a curious. Lets see what I can extract from Name.\n",
    "\n",
    "titles = {\"Mr\": 1, \"Miss\": 2, \"Mrs\": 3, \"Master\": 4, \"Rare\": 5}\n",
    "\n",
    "for dataset in train_ttn:\n",
    "    # extract titles\n",
    "    train_ttn['Title'] = train_ttn.Name.str.extract(' ([A-Za-z]+)\\.', expand=False)\n",
    "    \n",
    "    # replace titles with a more common title or as Rare\n",
    "    train_ttn['Title'] = train_ttn['Title'].replace(['Lady', 'Countess','Capt', 'Col','Don', 'Dr',\\\n",
    "                                            'Major', 'Rev', 'Sir', 'Jonkheer', 'Dona'], 'Rare')\n",
    "    train_ttn['Title'] = train_ttn['Title'].replace('Mlle', 'Miss')\n",
    "    train_ttn['Title'] = train_ttn['Title'].replace('Ms', 'Miss')\n",
    "    train_ttn['Title'] = train_ttn['Title'].replace('Mme', 'Mrs')\n",
    "    \n",
    "    # convert titles into numbers\n",
    "    train_ttn['Title'] = train_ttn['Title'].map(titles)\n",
    "    \n",
    "    # filling NaN with 0, to get safe\n",
    "    train_ttn['Title'] = train_ttn['Title'].fillna(0)\n",
    "    \n",
    "for dataset in test_ttn:\n",
    "    # extract titles\n",
    "    test_ttn['Title'] = test_ttn.Name.str.extract(' ([A-Za-z]+)\\.', expand=False)\n",
    "    \n",
    "    # replace titles with a more common title or as Rare\n",
    "    test_ttn['Title'] = test_ttn['Title'].replace(['Lady', 'Countess','Capt', 'Col','Don', 'Dr',\\\n",
    "                                            'Major', 'Rev', 'Sir', 'Jonkheer', 'Dona'], 'Rare')\n",
    "    test_ttn['Title'] = test_ttn['Title'].replace('Mlle', 'Miss')\n",
    "    test_ttn['Title'] = test_ttn['Title'].replace('Ms', 'Miss')\n",
    "    test_ttn['Title'] = test_ttn['Title'].replace('Mme', 'Mrs')\n",
    "    \n",
    "    # convert titles into numbers\n",
    "    test_ttn['Title'] = test_ttn['Title'].map(titles)\n",
    "    \n",
    "    # filling NaN with 0, to get safe\n",
    "    test_ttn['Title'] = test_ttn['Title'].fillna(0)"
   ]
  },
  {
   "cell_type": "code",
   "execution_count": 129,
   "metadata": {},
   "outputs": [],
   "source": [
    "# Transforming Sex into a dummy variable\n",
    "genders = {'male': 0, 'female': 1}\n",
    "for dataset in train_ttn:\n",
    "    train_ttn['gender'] = train_ttn['Sex'].map(genders)\n",
    "    \n",
    "for dataset in test_ttn:\n",
    "    test_ttn['gender'] = test_ttn['Sex'].map(genders)"
   ]
  },
  {
   "cell_type": "code",
   "execution_count": 130,
   "metadata": {},
   "outputs": [
    {
     "data": {
      "text/plain": [
       "count      891\n",
       "unique     681\n",
       "top       1601\n",
       "freq         7\n",
       "Name: Ticket, dtype: object"
      ]
     },
     "execution_count": 130,
     "metadata": {},
     "output_type": "execute_result"
    }
   ],
   "source": [
    "# Regarding Ticket, it has 681 unique values, so it will be difficult to convert this into just a few categories.\n",
    "train_ttn['Ticket'].describe()"
   ]
  },
  {
   "cell_type": "code",
   "execution_count": 131,
   "metadata": {},
   "outputs": [],
   "source": [
    "# Regarding Embarked, I defined S as 0 (default value) because it is the embarking port where most people embarked.\n",
    "\n",
    "ports = {'S': 0, 'C': 1, 'Q': 2}\n",
    "for dataset in train_ttn:\n",
    "     train_ttn['port_embarked'] = train_ttn['Embarked'].map(ports)\n",
    "        \n",
    "for dataset in test_ttn:\n",
    "     test_ttn['port_embarked'] = test_ttn['Embarked'].map(ports)"
   ]
  },
  {
   "cell_type": "code",
   "execution_count": 132,
   "metadata": {},
   "outputs": [
    {
     "name": "stdout",
     "output_type": "stream",
     "text": [
      "177\n",
      "0\n",
      "86\n",
      "0\n"
     ]
    },
    {
     "data": {
      "text/plain": [
       "<matplotlib.axes._subplots.AxesSubplot at 0x291edba5370>"
      ]
     },
     "execution_count": 132,
     "metadata": {},
     "output_type": "execute_result"
    },
    {
     "data": {
      "image/png": "[encoded data removed]",
      "text/plain": [
       "<Figure size 432x288 with 1 Axes>"
      ]
     },
     "metadata": {
      "needs_background": "light"
     },
     "output_type": "display_data"
    }
   ],
   "source": [
    "train_ttn['Age_filled'] = train_ttn.sort_values(['Sex', 'Pclass'])['Age'].transform(lambda x: x.fillna(x.mean()))\n",
    "print(train_ttn['Age'].isnull().sum())\n",
    "print(train_ttn['Age_filled'].isnull().sum())\n",
    "train_ttn['Age_filled'] = train_ttn['Age_filled'].astype(int)\n",
    "\n",
    "test_ttn['Age_filled'] = test_ttn.sort_values(['Sex', 'Pclass'])['Age'].transform(lambda x: x.fillna(x.mean()))\n",
    "print(test_ttn['Age'].isnull().sum())\n",
    "print(test_ttn['Age_filled'].isnull().sum())\n",
    "test_ttn['Age_filled'] = test_ttn['Age_filled'].astype(int)\n",
    "\n",
    "# So, with a new Age column the NA values of Age are solved. Lets now see the new distribution of age.\n",
    "\n",
    "sns.histplot(train_ttn['Age'].dropna())\n",
    "sns.histplot(train_ttn['Age_filled'], color = 'orange')\n",
    "\n",
    "# There is a huge increase on the number of passengers aged 30."
   ]
  },
  {
   "cell_type": "code",
   "execution_count": 133,
   "metadata": {},
   "outputs": [],
   "source": [
    "# Now, to create age categories, I have to carefully consider the groups I define because I do not want to skew the data towards a group or several groups.\n",
    "\n",
    "age_groups\n",
    "\n",
    "# According to the age_groups variable, bins suggested are the following:\n",
    "bins = [0, 10, 20, 30, 40, 50, 60, 70, 80]\n",
    "age_labels = ['0','1','2','3','4','5','6','7']\n",
    "train_ttn['Age_group'] = pd.cut(train_ttn['Age_filled'], bins, labels = age_labels, include_lowest = True)\n",
    "train_ttn['Age_group'] = train_ttn['Age_group'].astype(int)\n",
    "\n",
    "test_ttn['Age_group'] = pd.cut(test_ttn['Age_filled'], bins, labels = age_labels, include_lowest = True)\n",
    "test_ttn['Age_group'] = test_ttn['Age_group'].astype(int)"
   ]
  },
  {
   "cell_type": "code",
   "execution_count": 134,
   "metadata": {},
   "outputs": [
    {
     "data": {
      "text/plain": [
       "0      (-0.512, 85.388]\n",
       "1      (-0.512, 85.388]\n",
       "2      (-0.512, 85.388]\n",
       "3      (-0.512, 85.388]\n",
       "4      (-0.512, 85.388]\n",
       "             ...       \n",
       "886    (-0.512, 85.388]\n",
       "887    (-0.512, 85.388]\n",
       "888    (-0.512, 85.388]\n",
       "889    (-0.512, 85.388]\n",
       "890    (-0.512, 85.388]\n",
       "Name: Fare, Length: 891, dtype: category\n",
       "Categories (6, interval[float64]): [(-0.512, 85.388] < (85.388, 170.776] < (170.776, 256.165] < (256.165, 341.553] < (341.553, 426.941] < (426.941, 512.329]]"
      ]
     },
     "execution_count": 134,
     "metadata": {},
     "output_type": "execute_result"
    }
   ],
   "source": [
    "fare_groups = pd.cut(train_ttn['Fare'], bins=6)\n",
    "fare_groups"
   ]
  },
  {
   "cell_type": "code",
   "execution_count": 135,
   "metadata": {},
   "outputs": [
    {
     "ename": "NameError",
     "evalue": "name 'test_ttn_2' is not defined",
     "output_type": "error",
     "traceback": [
      "\u001b[1;31m---------------------------------------------------------------------------\u001b[0m",
      "\u001b[1;31mNameError\u001b[0m                                 Traceback (most recent call last)",
      "\u001b[1;32m<ipython-input-135-a9291e5f92eb>\u001b[0m in \u001b[0;36m<module>\u001b[1;34m\u001b[0m\n\u001b[1;32m----> 1\u001b[1;33m \u001b[0mtotal_3\u001b[0m \u001b[1;33m=\u001b[0m \u001b[0mtest_ttn_2\u001b[0m\u001b[1;33m.\u001b[0m\u001b[0misnull\u001b[0m\u001b[1;33m(\u001b[0m\u001b[1;33m)\u001b[0m\u001b[1;33m.\u001b[0m\u001b[0msum\u001b[0m\u001b[1;33m(\u001b[0m\u001b[1;33m)\u001b[0m\u001b[1;33m.\u001b[0m\u001b[0msort_values\u001b[0m\u001b[1;33m(\u001b[0m\u001b[0mascending\u001b[0m\u001b[1;33m=\u001b[0m\u001b[1;32mFalse\u001b[0m\u001b[1;33m)\u001b[0m\u001b[1;33m\u001b[0m\u001b[1;33m\u001b[0m\u001b[0m\n\u001b[0m\u001b[0;32m      2\u001b[0m \u001b[0mtotal_3\u001b[0m\u001b[1;33m.\u001b[0m\u001b[0mhead\u001b[0m\u001b[1;33m(\u001b[0m\u001b[0mlen\u001b[0m\u001b[1;33m(\u001b[0m\u001b[0mtest_ttn_2\u001b[0m\u001b[1;33m.\u001b[0m\u001b[0mcolumns\u001b[0m\u001b[1;33m)\u001b[0m\u001b[1;33m)\u001b[0m\u001b[1;33m\u001b[0m\u001b[1;33m\u001b[0m\u001b[0m\n",
      "\u001b[1;31mNameError\u001b[0m: name 'test_ttn_2' is not defined"
     ]
    }
   ],
   "source": [
    "total_3 = test_ttn_2.isnull().sum().sort_values(ascending=False)\n",
    "total_3.head(len(test_ttn_2.columns))"
   ]
  },
  {
   "cell_type": "code",
   "execution_count": null,
   "metadata": {},
   "outputs": [],
   "source": [
    "test_ttn['fare_interval'] = test_ttn.sort_values(['Embarked', 'Pclass', 'Sex'])['Fare'].transform(lambda x: x.fillna(x.mean()))\n",
    "\n",
    "for dataset in train_ttn:\n",
    "    train_ttn.loc[ train_ttn['Fare'] <= 85.388, 'fare_interval'] = 0\n",
    "    train_ttn.loc[(train_ttn['Fare'] > 85.388) & (train_ttn['Fare'] <= 170.776), 'fare_interval'] = 1\n",
    "    train_ttn.loc[(train_ttn['Fare'] > 170.776) & (train_ttn['Fare'] <= 256.165), 'fare_interval']   = 2\n",
    "    train_ttn.loc[(train_ttn['Fare'] > 256.165) & (train_ttn['Fare'] <= 341.533), 'fare_interval']   = 3\n",
    "    train_ttn.loc[(train_ttn['Fare'] > 341.533) & (train_ttn['Fare'] <= 426.941), 'fare_interval']   = 4\n",
    "    train_ttn.loc[ train_ttn['Fare'] > 426.941, 'Fare'] = 5\n",
    "    train_ttn['fare_interval'] = train_ttn['fare_interval'].astype(int)\n",
    "    \n",
    "for dataset in test_ttn:\n",
    "    test_ttn.loc[ test_ttn['Fare'] <= 85.388, 'fare_interval'] = 0\n",
    "    test_ttn.loc[(test_ttn['Fare'] > 85.388) & (test_ttn['Fare'] <= 170.776), 'fare_interval'] = 1\n",
    "    test_ttn.loc[(test_ttn['Fare'] > 170.776) & (test_ttn['Fare'] <= 256.165), 'fare_interval']   = 2\n",
    "    test_ttn.loc[(test_ttn['Fare'] > 256.165) & (test_ttn['Fare'] <= 341.533), 'fare_interval']   = 3\n",
    "    test_ttn.loc[(test_ttn['Fare'] > 341.533) & (test_ttn['Fare'] <= 426.941), 'fare_interval']   = 4\n",
    "    test_ttn.loc[ test_ttn['Fare'] > 426.941, 'Fare'] = 5\n",
    "    test_ttn['fare_interval'] = test_ttn['fare_interval'].astype(int)"
   ]
  },
  {
   "cell_type": "code",
   "execution_count": null,
   "metadata": {},
   "outputs": [],
   "source": [
    "test_ttn.head()"
   ]
  },
  {
   "cell_type": "code",
   "execution_count": null,
   "metadata": {},
   "outputs": [],
   "source": [
    "total_2 = train_ttn.isnull().sum().sort_values(ascending=False)\n",
    "total_2.head(len(train_ttn.columns))\n",
    "\n",
    "total_3 = test_ttn_2.isnull().sum().sort_values(ascending=False)\n",
    "total_3.head(len(test_ttn_2.columns))"
   ]
  },
  {
   "cell_type": "code",
   "execution_count": 148,
   "metadata": {},
   "outputs": [],
   "source": [
    "# In the final step of data preparation before modelling I am deleting from the datasets the columns that will not be used for modelling.\n",
    "\n",
    "train_ttn_2 = train_ttn.drop(['PassengerId', 'Name', 'Sex', 'Age', 'SibSp', 'Parch', 'Ticket', 'Cabin', 'Fare', 'Embarked', 'Who', 'Age_filled'], axis = 1)\n",
    "\n",
    "test_ttn_2 = test_ttn.drop(['Name', 'Sex', 'Age', 'Cabin', 'Embarked', 'SibSp', 'Parch', 'Ticket', 'Cabin', 'Fare', 'Age_filled'], axis = 1)"
   ]
  },
  {
   "cell_type": "code",
   "execution_count": 149,
   "metadata": {},
   "outputs": [],
   "source": [
    "# Now that I have data prepared, I will start the modelling phase in which I will use several models and then compare them. Separating predictors and the outcome variable:\n",
    "\n",
    "train_ttn_outcome = train_ttn_2['Survived']\n",
    "train_ttn_predictors = train_ttn_2.drop('Survived', axis = 1)\n",
    "test_ttn_without_id = test_ttn_2.drop('PassengerId', axis = 1).copy()"
   ]
  },
  {
   "cell_type": "code",
   "execution_count": 150,
   "metadata": {},
   "outputs": [
    {
     "data": {
      "text/html": [
       "<div>\n",
       "<style scoped>\n",
       "    .dataframe tbody tr th:only-of-type {\n",
       "        vertical-align: middle;\n",
       "    }\n",
       "\n",
       "    .dataframe tbody tr th {\n",
       "        vertical-align: top;\n",
       "    }\n",
       "\n",
       "    .dataframe thead th {\n",
       "        text-align: right;\n",
       "    }\n",
       "</style>\n",
       "<table border=\"1\" class=\"dataframe\">\n",
       "  <thead>\n",
       "    <tr style=\"text-align: right;\">\n",
       "      <th></th>\n",
       "      <th>Survived</th>\n",
       "      <th>Pclass</th>\n",
       "      <th>number_relatives</th>\n",
       "      <th>alone</th>\n",
       "      <th>Deck</th>\n",
       "      <th>Title</th>\n",
       "      <th>gender</th>\n",
       "      <th>port_embarked</th>\n",
       "      <th>Age_group</th>\n",
       "    </tr>\n",
       "  </thead>\n",
       "  <tbody>\n",
       "    <tr>\n",
       "      <th>0</th>\n",
       "      <td>0</td>\n",
       "      <td>3</td>\n",
       "      <td>1</td>\n",
       "      <td>0</td>\n",
       "      <td>8</td>\n",
       "      <td>1</td>\n",
       "      <td>0</td>\n",
       "      <td>0</td>\n",
       "      <td>2</td>\n",
       "    </tr>\n",
       "    <tr>\n",
       "      <th>1</th>\n",
       "      <td>1</td>\n",
       "      <td>1</td>\n",
       "      <td>1</td>\n",
       "      <td>0</td>\n",
       "      <td>3</td>\n",
       "      <td>3</td>\n",
       "      <td>1</td>\n",
       "      <td>1</td>\n",
       "      <td>3</td>\n",
       "    </tr>\n",
       "    <tr>\n",
       "      <th>2</th>\n",
       "      <td>1</td>\n",
       "      <td>3</td>\n",
       "      <td>0</td>\n",
       "      <td>1</td>\n",
       "      <td>8</td>\n",
       "      <td>2</td>\n",
       "      <td>1</td>\n",
       "      <td>0</td>\n",
       "      <td>2</td>\n",
       "    </tr>\n",
       "    <tr>\n",
       "      <th>3</th>\n",
       "      <td>1</td>\n",
       "      <td>1</td>\n",
       "      <td>1</td>\n",
       "      <td>0</td>\n",
       "      <td>3</td>\n",
       "      <td>3</td>\n",
       "      <td>1</td>\n",
       "      <td>0</td>\n",
       "      <td>3</td>\n",
       "    </tr>\n",
       "    <tr>\n",
       "      <th>4</th>\n",
       "      <td>0</td>\n",
       "      <td>3</td>\n",
       "      <td>0</td>\n",
       "      <td>1</td>\n",
       "      <td>8</td>\n",
       "      <td>1</td>\n",
       "      <td>0</td>\n",
       "      <td>0</td>\n",
       "      <td>3</td>\n",
       "    </tr>\n",
       "  </tbody>\n",
       "</table>\n",
       "</div>"
      ],
      "text/plain": [
       "   Survived  Pclass  number_relatives  alone  Deck  Title  gender  \\\n",
       "0         0       3                 1      0     8      1       0   \n",
       "1         1       1                 1      0     3      3       1   \n",
       "2         1       3                 0      1     8      2       1   \n",
       "3         1       1                 1      0     3      3       1   \n",
       "4         0       3                 0      1     8      1       0   \n",
       "\n",
       "   port_embarked  Age_group  \n",
       "0              0          2  \n",
       "1              1          3  \n",
       "2              0          2  \n",
       "3              0          3  \n",
       "4              0          3  "
      ]
     },
     "execution_count": 150,
     "metadata": {},
     "output_type": "execute_result"
    }
   ],
   "source": [
    "train_ttn_2.head()"
   ]
  },
  {
   "cell_type": "code",
   "execution_count": 151,
   "metadata": {},
   "outputs": [
    {
     "data": {
      "text/html": [
       "<div>\n",
       "<style scoped>\n",
       "    .dataframe tbody tr th:only-of-type {\n",
       "        vertical-align: middle;\n",
       "    }\n",
       "\n",
       "    .dataframe tbody tr th {\n",
       "        vertical-align: top;\n",
       "    }\n",
       "\n",
       "    .dataframe thead th {\n",
       "        text-align: right;\n",
       "    }\n",
       "</style>\n",
       "<table border=\"1\" class=\"dataframe\">\n",
       "  <thead>\n",
       "    <tr style=\"text-align: right;\">\n",
       "      <th></th>\n",
       "      <th>PassengerId</th>\n",
       "      <th>Pclass</th>\n",
       "      <th>number_relatives</th>\n",
       "      <th>alone</th>\n",
       "      <th>Deck</th>\n",
       "      <th>Title</th>\n",
       "      <th>gender</th>\n",
       "      <th>port_embarked</th>\n",
       "      <th>Age_group</th>\n",
       "    </tr>\n",
       "  </thead>\n",
       "  <tbody>\n",
       "    <tr>\n",
       "      <th>0</th>\n",
       "      <td>892</td>\n",
       "      <td>3</td>\n",
       "      <td>0</td>\n",
       "      <td>1</td>\n",
       "      <td>8</td>\n",
       "      <td>1</td>\n",
       "      <td>0</td>\n",
       "      <td>2</td>\n",
       "      <td>3</td>\n",
       "    </tr>\n",
       "    <tr>\n",
       "      <th>1</th>\n",
       "      <td>893</td>\n",
       "      <td>3</td>\n",
       "      <td>1</td>\n",
       "      <td>0</td>\n",
       "      <td>8</td>\n",
       "      <td>3</td>\n",
       "      <td>1</td>\n",
       "      <td>0</td>\n",
       "      <td>4</td>\n",
       "    </tr>\n",
       "    <tr>\n",
       "      <th>2</th>\n",
       "      <td>894</td>\n",
       "      <td>2</td>\n",
       "      <td>0</td>\n",
       "      <td>1</td>\n",
       "      <td>8</td>\n",
       "      <td>1</td>\n",
       "      <td>0</td>\n",
       "      <td>2</td>\n",
       "      <td>6</td>\n",
       "    </tr>\n",
       "    <tr>\n",
       "      <th>3</th>\n",
       "      <td>895</td>\n",
       "      <td>3</td>\n",
       "      <td>0</td>\n",
       "      <td>1</td>\n",
       "      <td>8</td>\n",
       "      <td>1</td>\n",
       "      <td>0</td>\n",
       "      <td>0</td>\n",
       "      <td>2</td>\n",
       "    </tr>\n",
       "    <tr>\n",
       "      <th>4</th>\n",
       "      <td>896</td>\n",
       "      <td>3</td>\n",
       "      <td>2</td>\n",
       "      <td>0</td>\n",
       "      <td>8</td>\n",
       "      <td>3</td>\n",
       "      <td>1</td>\n",
       "      <td>0</td>\n",
       "      <td>2</td>\n",
       "    </tr>\n",
       "  </tbody>\n",
       "</table>\n",
       "</div>"
      ],
      "text/plain": [
       "   PassengerId  Pclass  number_relatives  alone  Deck  Title  gender  \\\n",
       "0          892       3                 0      1     8      1       0   \n",
       "1          893       3                 1      0     8      3       1   \n",
       "2          894       2                 0      1     8      1       0   \n",
       "3          895       3                 0      1     8      1       0   \n",
       "4          896       3                 2      0     8      3       1   \n",
       "\n",
       "   port_embarked  Age_group  \n",
       "0              2          3  \n",
       "1              0          4  \n",
       "2              2          6  \n",
       "3              0          2  \n",
       "4              0          2  "
      ]
     },
     "execution_count": 151,
     "metadata": {},
     "output_type": "execute_result"
    }
   ],
   "source": [
    "test_ttn_2.head()"
   ]
  },
  {
   "cell_type": "code",
   "execution_count": 152,
   "metadata": {},
   "outputs": [
    {
     "name": "stdout",
     "output_type": "stream",
     "text": [
      "81.93\n"
     ]
    }
   ],
   "source": [
    "# Starting with the logistic regression, which seems to be the most obvious one.\n",
    "\n",
    "logistic_regression = LogisticRegression()\n",
    "logistic_regression.fit(train_ttn_predictors, train_ttn_outcome)\n",
    "\n",
    "predicted_outcome_1 = logistic_regression.predict(test_ttn_without_id)\n",
    "acc_logistic_regression = round(logistic_regression.score(train_ttn_predictors, train_ttn_outcome) * 100, 2)\n",
    "print(acc_logistic_regression)"
   ]
  },
  {
   "cell_type": "code",
   "execution_count": 153,
   "metadata": {},
   "outputs": [
    {
     "name": "stdout",
     "output_type": "stream",
     "text": [
      "89.23\n"
     ]
    }
   ],
   "source": [
    "# Decision Tree\n",
    "\n",
    "decision_tree = DecisionTreeClassifier()\n",
    "decision_tree.fit(train_ttn_predictors, train_ttn_outcome)\n",
    "predicted_outcome_2 = decision_tree.predict(test_ttn_without_id)\n",
    "acc_decision_tree = round(decision_tree.score(train_ttn_predictors, train_ttn_outcome) * 100, 2)\n",
    "print(acc_decision_tree)"
   ]
  },
  {
   "cell_type": "code",
   "execution_count": 154,
   "metadata": {},
   "outputs": [
    {
     "name": "stdout",
     "output_type": "stream",
     "text": [
      "79.91\n"
     ]
    }
   ],
   "source": [
    "# Gaussian Naive Bayes\n",
    "\n",
    "gaussian = GaussianNB()\n",
    "gaussian.fit(train_ttn_predictors, train_ttn_outcome)\n",
    "predicted_outcome_3 = gaussian.predict(test_ttn_without_id)\n",
    "acc_gaussian = round(gaussian.score(train_ttn_predictors, train_ttn_outcome) * 100, 2)\n",
    "print(acc_gaussian)"
   ]
  },
  {
   "cell_type": "code",
   "execution_count": 178,
   "metadata": {},
   "outputs": [
    {
     "name": "stdout",
     "output_type": "stream",
     "text": [
      "89.23\n"
     ]
    }
   ],
   "source": [
    "# Random Forest\n",
    "\n",
    "random_forest = RandomForestClassifier(n_estimators=100, oob_score = True)\n",
    "random_forest.fit(train_ttn_predictors, train_ttn_outcome)\n",
    "\n",
    "predicted_outcome_4 = random_forest.predict(test_ttn_without_id)\n",
    "\n",
    "random_forest.score(train_ttn_predictors, train_ttn_outcome)\n",
    "acc_random_forest = round(random_forest.score(train_ttn_predictors, train_ttn_outcome) * 100, 2)\n",
    "\n",
    "print(acc_random_forest)"
   ]
  },
  {
   "cell_type": "code",
   "execution_count": 179,
   "metadata": {},
   "outputs": [
    {
     "name": "stdout",
     "output_type": "stream",
     "text": [
      "86.31\n"
     ]
    }
   ],
   "source": [
    "# K Nearest Neighbor\n",
    "\n",
    "knn = KNeighborsClassifier(n_neighbors = 3)\n",
    "knn.fit(train_ttn_predictors, train_ttn_outcome) \n",
    "predicted_outcome_5 = knn.predict(test_ttn_without_id)\n",
    "acc_knn = round(knn.score(train_ttn_predictors, train_ttn_outcome) * 100, 2)\n",
    "print(acc_knn)"
   ]
  },
  {
   "cell_type": "code",
   "execution_count": 180,
   "metadata": {},
   "outputs": [
    {
     "name": "stdout",
     "output_type": "stream",
     "text": [
      "80.25\n"
     ]
    },
    {
     "name": "stderr",
     "output_type": "stream",
     "text": [
      "C:\\Users\\pedro\\anaconda3\\lib\\site-packages\\sklearn\\linear_model\\_stochastic_gradient.py:570: ConvergenceWarning: Maximum number of iteration reached before convergence. Consider increasing max_iter to improve the fit.\n",
      "  warnings.warn(\"Maximum number of iteration reached before \"\n"
     ]
    }
   ],
   "source": [
    "# Perceptron\n",
    "\n",
    "perceptron = Perceptron(max_iter=5)\n",
    "perceptron.fit(train_ttn_predictors, train_ttn_outcome)\n",
    "\n",
    "predicted_outcome_6 = perceptron.predict(test_ttn_without_id)\n",
    "\n",
    "acc_perceptron = round(perceptron.score(train_ttn_predictors, train_ttn_outcome) * 100, 2)\n",
    "print(acc_perceptron)"
   ]
  },
  {
   "cell_type": "code",
   "execution_count": 181,
   "metadata": {},
   "outputs": [
    {
     "name": "stderr",
     "output_type": "stream",
     "text": [
      "C:\\Users\\pedro\\anaconda3\\lib\\site-packages\\sklearn\\svm\\_base.py:976: ConvergenceWarning: Liblinear failed to converge, increase the number of iterations.\n",
      "  warnings.warn(\"Liblinear failed to converge, increase \"\n"
     ]
    },
    {
     "name": "stdout",
     "output_type": "stream",
     "text": [
      "81.48\n"
     ]
    }
   ],
   "source": [
    "# Linear Support Vector Machine\n",
    "\n",
    "linear_svc = LinearSVC()\n",
    "linear_svc.fit(train_ttn_predictors, train_ttn_outcome)\n",
    "\n",
    "predicted_outcome_7 = linear_svc.predict(test_ttn_without_id)\n",
    "\n",
    "acc_linear_svc = round(linear_svc.score(train_ttn_predictors, train_ttn_outcome) * 100, 2)\n",
    "print(acc_linear_svc)"
   ]
  },
  {
   "cell_type": "code",
   "execution_count": 182,
   "metadata": {},
   "outputs": [
    {
     "name": "stdout",
     "output_type": "stream",
     "text": [
      "78.79\n"
     ]
    }
   ],
   "source": [
    "# Stochastic Gradient Descent\n",
    "\n",
    "sgd = linear_model.SGDClassifier(max_iter=5, tol=None)\n",
    "sgd.fit(train_ttn_predictors, train_ttn_outcome)\n",
    "predicted_outcome_8 = sgd.predict(test_ttn_without_id)\n",
    "\n",
    "sgd.score(train_ttn_predictors, train_ttn_outcome)\n",
    "\n",
    "acc_sgd = round(sgd.score(train_ttn_predictors, train_ttn_outcome) * 100, 2)\n",
    "\n",
    "print(acc_sgd)"
   ]
  },
  {
   "cell_type": "code",
   "execution_count": 183,
   "metadata": {},
   "outputs": [
    {
     "data": {
      "text/html": [
       "<div>\n",
       "<style scoped>\n",
       "    .dataframe tbody tr th:only-of-type {\n",
       "        vertical-align: middle;\n",
       "    }\n",
       "\n",
       "    .dataframe tbody tr th {\n",
       "        vertical-align: top;\n",
       "    }\n",
       "\n",
       "    .dataframe thead th {\n",
       "        text-align: right;\n",
       "    }\n",
       "</style>\n",
       "<table border=\"1\" class=\"dataframe\">\n",
       "  <thead>\n",
       "    <tr style=\"text-align: right;\">\n",
       "      <th></th>\n",
       "      <th>Model</th>\n",
       "    </tr>\n",
       "    <tr>\n",
       "      <th>Score</th>\n",
       "      <th></th>\n",
       "    </tr>\n",
       "  </thead>\n",
       "  <tbody>\n",
       "    <tr>\n",
       "      <th>89.23</th>\n",
       "      <td>Random Forest</td>\n",
       "    </tr>\n",
       "    <tr>\n",
       "      <th>89.23</th>\n",
       "      <td>Decision Tree</td>\n",
       "    </tr>\n",
       "    <tr>\n",
       "      <th>86.31</th>\n",
       "      <td>KNN</td>\n",
       "    </tr>\n",
       "    <tr>\n",
       "      <th>81.93</th>\n",
       "      <td>Logistic Regression</td>\n",
       "    </tr>\n",
       "    <tr>\n",
       "      <th>81.48</th>\n",
       "      <td>Support Vector Machines</td>\n",
       "    </tr>\n",
       "    <tr>\n",
       "      <th>80.25</th>\n",
       "      <td>Perceptron</td>\n",
       "    </tr>\n",
       "    <tr>\n",
       "      <th>79.91</th>\n",
       "      <td>Naive Bayes</td>\n",
       "    </tr>\n",
       "    <tr>\n",
       "      <th>78.79</th>\n",
       "      <td>Stochastic Gradient Decent</td>\n",
       "    </tr>\n",
       "  </tbody>\n",
       "</table>\n",
       "</div>"
      ],
      "text/plain": [
       "                            Model\n",
       "Score                            \n",
       "89.23               Random Forest\n",
       "89.23               Decision Tree\n",
       "86.31                         KNN\n",
       "81.93         Logistic Regression\n",
       "81.48     Support Vector Machines\n",
       "80.25                  Perceptron\n",
       "79.91                 Naive Bayes\n",
       "78.79  Stochastic Gradient Decent"
      ]
     },
     "execution_count": 183,
     "metadata": {},
     "output_type": "execute_result"
    }
   ],
   "source": [
    "results = pd.DataFrame({\n",
    "    'Model': ['Support Vector Machines', 'KNN', 'Logistic Regression', 'Random Forest', 'Naive Bayes', 'Perceptron', 'Stochastic Gradient Decent', 'Decision Tree'],\n",
    "    'Score': [acc_linear_svc, acc_knn, acc_logistic_regression, acc_random_forest, acc_gaussian, acc_perceptron, acc_sgd, acc_decision_tree]})\n",
    "result_df = results.sort_values(by='Score', ascending=False)\n",
    "result_df = result_df.set_index('Score')\n",
    "result_df.head(9)\n",
    "\n",
    "# RESUME HERE"
   ]
  },
  {
   "cell_type": "code",
   "execution_count": 184,
   "metadata": {},
   "outputs": [],
   "source": [
    "# So, lets evaluate the Random Forest (Classification). The following would be a great way to evaluate the RF model but in this dataset I do not have y_test. From the test dataset I do not know who survived and who did not.\n",
    "\n",
    "\n",
    "# from sklearn.metrics import classification_report, confusion_matrix, accuracy_score\n",
    "\n",
    "# print(classification_report(y_test, y_pred))\n",
    "# print(confusion_matrix(y_test, y_pred))\n",
    "# print(accuracy_score(y_test, y_pred))"
   ]
  },
  {
   "cell_type": "code",
   "execution_count": 185,
   "metadata": {},
   "outputs": [
    {
     "data": {
      "text/html": [
       "<div>\n",
       "<style scoped>\n",
       "    .dataframe tbody tr th:only-of-type {\n",
       "        vertical-align: middle;\n",
       "    }\n",
       "\n",
       "    .dataframe tbody tr th {\n",
       "        vertical-align: top;\n",
       "    }\n",
       "\n",
       "    .dataframe thead th {\n",
       "        text-align: right;\n",
       "    }\n",
       "</style>\n",
       "<table border=\"1\" class=\"dataframe\">\n",
       "  <thead>\n",
       "    <tr style=\"text-align: right;\">\n",
       "      <th></th>\n",
       "      <th>weight</th>\n",
       "    </tr>\n",
       "    <tr>\n",
       "      <th>parameter</th>\n",
       "      <th></th>\n",
       "    </tr>\n",
       "  </thead>\n",
       "  <tbody>\n",
       "    <tr>\n",
       "      <th>Title</th>\n",
       "      <td>0.226</td>\n",
       "    </tr>\n",
       "    <tr>\n",
       "      <th>gender</th>\n",
       "      <td>0.219</td>\n",
       "    </tr>\n",
       "    <tr>\n",
       "      <th>Age_group</th>\n",
       "      <td>0.131</td>\n",
       "    </tr>\n",
       "    <tr>\n",
       "      <th>Pclass</th>\n",
       "      <td>0.125</td>\n",
       "    </tr>\n",
       "    <tr>\n",
       "      <th>number_relatives</th>\n",
       "      <td>0.113</td>\n",
       "    </tr>\n",
       "    <tr>\n",
       "      <th>Deck</th>\n",
       "      <td>0.112</td>\n",
       "    </tr>\n",
       "    <tr>\n",
       "      <th>port_embarked</th>\n",
       "      <td>0.055</td>\n",
       "    </tr>\n",
       "    <tr>\n",
       "      <th>alone</th>\n",
       "      <td>0.018</td>\n",
       "    </tr>\n",
       "  </tbody>\n",
       "</table>\n",
       "</div>"
      ],
      "text/plain": [
       "                  weight\n",
       "parameter               \n",
       "Title              0.226\n",
       "gender             0.219\n",
       "Age_group          0.131\n",
       "Pclass             0.125\n",
       "number_relatives   0.113\n",
       "Deck               0.112\n",
       "port_embarked      0.055\n",
       "alone              0.018"
      ]
     },
     "execution_count": 185,
     "metadata": {},
     "output_type": "execute_result"
    }
   ],
   "source": [
    "# Getting the importance of each parameter (like the betas):\n",
    "\n",
    "betas = pd.DataFrame ({'parameter': train_ttn_predictors.columns, 'weight': np.round(random_forest.feature_importances_, 3)})\n",
    "betas = betas.sort_values('weight', ascending = False).set_index('parameter')\n",
    "\n",
    "betas.head(len(train_ttn_predictors.columns))"
   ]
  },
  {
   "cell_type": "code",
   "execution_count": 188,
   "metadata": {},
   "outputs": [
    {
     "name": "stdout",
     "output_type": "stream",
     "text": [
      "89.23\n",
      "0.8047138047138047\n"
     ]
    }
   ],
   "source": [
    "# Since alone parameter seems to have a very low importance, I am going to drop it from the model and train it again.\n",
    "\n",
    "train_ttn_predictors_2 = train_ttn_predictors.drop('alone', axis = 1)\n",
    "test_ttn_without_id_2 = test_ttn_without_id.drop('alone', axis = 1)\n",
    "\n",
    "random_forest.fit(train_ttn_predictors_2, train_ttn_outcome)\n",
    "predicted_outcome_9 = random_forest.predict(test_ttn_without_id_2)\n",
    "random_forest.score(train_ttn_predictors_2, train_ttn_outcome)\n",
    "acc_random_forest = round(random_forest.score(train_ttn_predictors_2, train_ttn_outcome) * 100, 2)\n",
    "print(acc_random_forest)\n",
    "\n",
    "# The accuracy value is the same (89.23). Another way to test a RF model is using out-of-bag score.\n",
    "oob_score = random_forest.oob_score_\n",
    "print(oob_score)"
   ]
  },
  {
   "cell_type": "code",
   "execution_count": 189,
   "metadata": {},
   "outputs": [
    {
     "data": {
      "text/plain": [
       "array([[483,  66],\n",
       "       [107, 235]], dtype=int64)"
      ]
     },
     "execution_count": 189,
     "metadata": {},
     "output_type": "execute_result"
    }
   ],
   "source": [
    "# Saw this on the internet, confusion matrix to evaluate the model. Credits to Niklas Donges.\n",
    "\n",
    "from sklearn.model_selection import cross_val_predict\n",
    "from sklearn.metrics import confusion_matrix\n",
    "predictions = cross_val_predict(random_forest, train_ttn_predictors_2, train_ttn_outcome, cv=3)\n",
    "confusion_matrix(train_ttn_outcome, predictions)\n",
    "\n",
    "# The first row concerns to the value of zero in the Survived outcome variable (non-survivors). The second row concerns to the value of one (survivors).\n",
    "# The first row means that my model has 483 true negatives (predicted non-survivers that actually died) and 66 false positives (survived and were classified as non-survivors).\n",
    "# The second row means that my model has 107 incorrectly false positives (predicted survivors that actually died) and 249 true positives (predicted survivors that actually survived)."
   ]
  },
  {
   "cell_type": "code",
   "execution_count": 194,
   "metadata": {},
   "outputs": [
    {
     "name": "stdout",
     "output_type": "stream",
     "text": [
      "Precision:  0.7807308970099668\n",
      "Recall:  0.6871345029239766\n",
      "f1 score:  0.7309486780715396\n",
      "ROC AUC Score:  0.9452646491760672\n"
     ]
    }
   ],
   "source": [
    "# Classifiers precision. Credits too Niklas Donges.\n",
    "\n",
    "from sklearn.metrics import precision_score, recall_score, f1_score, roc_auc_score\n",
    "\n",
    "print('Precision: ', precision_score(train_ttn_outcome, predictions))\n",
    "print('Recall: ', recall_score(train_ttn_outcome, predictions))\n",
    "print('f1 score: ', f1_score(train_ttn_outcome, predictions))\n",
    "# So, my model predicts correctly a passenger survival 78% of the times (precision) and it predicted survival of 69% of passengers who actually survived.\n",
    "# f1 score is not perfect because it favours classifiers that have similar values of precision and recall and sometimes you want a high precision and sometimes a high recall. There is a precision-recall trade-off.\n",
    "\n",
    "# Another method is using both ROC AUC Curve and ROC AUC Score. This curve plots the true positive against the false positive. Regarding the score, it is simply the area under the ROC AUC Curve. A 100% correct classifier has a ROC AUC Score of 1 and a completely random classifier would have a score of 0.5 (like flipping a coin). So, you want a score as close as possible to 1.\n",
    "y_scores = random_forest.predict_proba(train_ttn_predictors_2)\n",
    "y_scores = y_scores[:,1]\n",
    "rocAucScore = roc_auc_score (train_ttn_outcome, y_scores)\n",
    "print('ROC AUC Score: ', rocAucScore)\n",
    "\n",
    "# ROC AUC Score is actually very good."
   ]
  }
 ],
 "metadata": {
  "kernelspec": {
   "display_name": "Python 3",
   "language": "python",
   "name": "python3"
  },
  "language_info": {
   "codemirror_mode": {
    "name": "ipython",
    "version": 3
   },
   "file_extension": ".py",
   "mimetype": "text/x-python",
   "name": "python",
   "nbconvert_exporter": "python",
   "pygments_lexer": "ipython3",
   "version": "3.8.3"
  }
 },
 "nbformat": 4,
 "nbformat_minor": 4
}
